{
 "cells": [
  {
   "cell_type": "raw",
   "metadata": {
    "deletable": true,
    "editable": true
   },
   "source": [
    "This notebook talks about Boosting, Bagging and Random Forests.\n",
    "Outline:\n",
    "    Load wine dataset\n",
    "    Use AdaBoost with DecisionTreeClassifier\n",
    "    Bagging\n",
    "    Random Forests"
   ]
  },
  {
   "cell_type": "code",
   "execution_count": 1,
   "metadata": {
    "collapsed": true,
    "deletable": true,
    "editable": true
   },
   "outputs": [],
   "source": [
    "from sklearn.ensemble import AdaBoostClassifier\n",
    "import numpy as np\n",
    "import matplotlib.pyplot as plt\n",
    "from sklearn.model_selection import train_test_split\n",
    "import pandas as pd\n",
    "\n",
    "data = pd.read_csv('wine_original.csv')\n",
    "labels = data['class']\n",
    "del data['class']\n",
    "X = data\n",
    "y = labels\n",
    "\n",
    "# Split into testing and training data\n",
    "X_train, X_test, y_train, y_test = train_test_split(X, y, test_size=0.2, random_state=5)\n",
    "X_train, X_valid, y_train, y_valid = train_test_split(X_train, y_train, test_size=0.2, random_state=5)"
   ]
  },
  {
   "cell_type": "code",
   "execution_count": 3,
   "metadata": {
    "collapsed": false,
    "deletable": true,
    "editable": true
   },
   "outputs": [
    {
     "name": "stdout",
     "output_type": "stream",
     "text": [
      "Validation Accuracy = 0.896551724138 at max_depth = 1 estimators = 100\n",
      "Validation Accuracy = 0.896551724138 at max_depth = 1 estimators = 200\n",
      "Validation Accuracy = 0.896551724138 at max_depth = 1 estimators = 300\n",
      "Validation Accuracy = 0.896551724138 at max_depth = 1 estimators = 400\n",
      "Validation Accuracy = 0.896551724138 at max_depth = 1 estimators = 500\n",
      "Validation Accuracy = 1.0 at max_depth = 2 estimators = 100\n",
      "Validation Accuracy = 1.0 at max_depth = 2 estimators = 200\n",
      "Validation Accuracy = 1.0 at max_depth = 2 estimators = 300\n",
      "Validation Accuracy = 1.0 at max_depth = 2 estimators = 400\n",
      "Validation Accuracy = 1.0 at max_depth = 2 estimators = 500\n",
      "Validation Accuracy = 0.931034482759 at max_depth = 3 estimators = 100\n",
      "Validation Accuracy = 0.931034482759 at max_depth = 3 estimators = 200\n",
      "Validation Accuracy = 0.931034482759 at max_depth = 3 estimators = 300\n",
      "Validation Accuracy = 0.931034482759 at max_depth = 3 estimators = 400\n",
      "Validation Accuracy = 1.0 at max_depth = 3 estimators = 500\n",
      "Validation Accuracy = 0.827586206897 at max_depth = 4 estimators = 100\n",
      "Validation Accuracy = 0.827586206897 at max_depth = 4 estimators = 200\n",
      "Validation Accuracy = 0.827586206897 at max_depth = 4 estimators = 300\n",
      "Validation Accuracy = 0.827586206897 at max_depth = 4 estimators = 400\n",
      "Validation Accuracy = 0.827586206897 at max_depth = 4 estimators = 500\n",
      "Validation Accuracy = 0.862068965517 at max_depth = 5 estimators = 100\n",
      "Validation Accuracy = 0.896551724138 at max_depth = 5 estimators = 200\n",
      "Validation Accuracy = 0.862068965517 at max_depth = 5 estimators = 300\n",
      "Validation Accuracy = 0.862068965517 at max_depth = 5 estimators = 400\n",
      "Validation Accuracy = 0.896551724138 at max_depth = 5 estimators = 500\n",
      "\n",
      "Best params = 2 100\n"
     ]
    }
   ],
   "source": [
    "from sklearn.metrics import accuracy_score\n",
    "from sklearn.tree import DecisionTreeClassifier\n",
    "\n",
    "best_acc = 0.0\n",
    "best_max_depth = 0\n",
    "best_n_est = 0\n",
    "\n",
    "for max_depth in [1,2,3,4,5]:\n",
    "    for n_est in [100,200,300,400,500]:\n",
    "        clf = AdaBoostClassifier(DecisionTreeClassifier(max_depth=max_depth),\n",
    "                         n_estimators=n_est)\n",
    "        clf.fit(X_train, y_train)\n",
    "        y_pred = clf.predict(X_valid)\n",
    "        y_train_pred = clf.predict(X_train)\n",
    "\n",
    "        acc = accuracy_score(y_pred, y_valid)\n",
    "\n",
    "        print ('Validation Accuracy = ' + str(acc) + ' at max_depth = ' + str(max_depth) + ' estimators = ' + str(n_est))\n",
    "        if (acc > best_acc):\n",
    "            best_acc = acc\n",
    "            best_max_depth = max_depth\n",
    "            best_n_est = n_est\n",
    "\n",
    "print ('')\n",
    "print ('Best params = ' + str(best_max_depth) + ' ' + str(best_n_est))"
   ]
  },
  {
   "cell_type": "markdown",
   "metadata": {
    "deletable": true,
    "editable": true
   },
   "source": [
    "Single classifier with these parameters"
   ]
  },
  {
   "cell_type": "code",
   "execution_count": 4,
   "metadata": {
    "collapsed": true,
    "deletable": true,
    "editable": true
   },
   "outputs": [],
   "source": [
    "X_train = np.concatenate((X_train, X_valid))\n",
    "y_train = np.concatenate((y_train, y_valid))"
   ]
  },
  {
   "cell_type": "code",
   "execution_count": 5,
   "metadata": {
    "collapsed": false,
    "deletable": true,
    "editable": true
   },
   "outputs": [
    {
     "name": "stdout",
     "output_type": "stream",
     "text": [
      "0.722222222222\n"
     ]
    }
   ],
   "source": [
    "clf = DecisionTreeClassifier(max_depth=best_max_depth)\n",
    "clf.fit(X_train, y_train)\n",
    "y_pred = clf.predict(X_test)\n",
    "print (accuracy_score(y_pred, y_test))"
   ]
  },
  {
   "cell_type": "markdown",
   "metadata": {
    "deletable": true,
    "editable": true
   },
   "source": [
    "Adaboost Classifier with 200 of these classifiers"
   ]
  },
  {
   "cell_type": "code",
   "execution_count": 6,
   "metadata": {
    "collapsed": false,
    "deletable": true,
    "editable": true
   },
   "outputs": [
    {
     "name": "stdout",
     "output_type": "stream",
     "text": [
      "0.944444444444\n"
     ]
    }
   ],
   "source": [
    "clf = AdaBoostClassifier(DecisionTreeClassifier(max_depth=best_max_depth),\n",
    "                         n_estimators=best_n_est)\n",
    "clf.fit(X_train, y_train)\n",
    "y_pred = clf.predict(X_test)\n",
    "print (accuracy_score(y_pred, y_test))"
   ]
  },
  {
   "cell_type": "markdown",
   "metadata": {
    "deletable": true,
    "editable": true
   },
   "source": [
    "Decision Boundary"
   ]
  },
  {
   "cell_type": "code",
   "execution_count": 7,
   "metadata": {
    "collapsed": false,
    "deletable": true,
    "editable": true
   },
   "outputs": [
    {
     "data": {
      "text/plain": [
       "<matplotlib.figure.Figure at 0x1cbae6d0198>"
      ]
     },
     "metadata": {},
     "output_type": "display_data"
    },
    {
     "data": {
      "image/png": "[encoded data removed]",
      "text/plain": [
       "<matplotlib.figure.Figure at 0x1cbb427f2b0>"
      ]
     },
     "metadata": {},
     "output_type": "display_data"
    }
   ],
   "source": [
    "from matplotlib.colors import ListedColormap\n",
    "\n",
    "h = .02  # step size in the mesh\n",
    "# Create color maps\n",
    "cmap_light = ListedColormap(['#FFAAAA', '#AAFFAA', '#AAAAFF'])\n",
    "cmap_bold = ListedColormap(['#FF0000', '#00FF00', '#0000FF'])\n",
    "\n",
    "X = np.concatenate((X_train, X_test))\n",
    "y = np.concatenate((y_train, y_test))\n",
    "\n",
    "# Plot the decision boundary. For that, we will assign a color to each\n",
    "    # point in the mesh [x_min, x_max]x[y_min, y_max].\n",
    "x_min, x_max = X[:, 0].min() - 1, X[:, 0].max() + 1\n",
    "y_min, y_max = X[:, 1].min() - 1, X[:, 1].max() + 1\n",
    "\n",
    "plt.clf()\n",
    "clf = AdaBoostClassifier(DecisionTreeClassifier(max_depth=best_max_depth),\n",
    "                         n_estimators=best_n_est)\n",
    "clf.fit(X[:,:2], y)\n",
    "xx, yy = np.meshgrid(np.arange(x_min, x_max, h),\n",
    "                    np.arange(y_min, y_max, h))\n",
    "Z = clf.predict(np.c_[xx.ravel(), yy.ravel()])\n",
    "\n",
    "# Put the result into a color plot\n",
    "Z = Z.reshape(xx.shape)\n",
    "plt.figure()\n",
    "plt.pcolormesh(xx, yy, Z, cmap=cmap_light)\n",
    "\n",
    "# Plot also the training points\n",
    "plt.scatter(X[:, 0], X[:, 1], c=y, cmap=cmap_bold)\n",
    "plt.xlim(xx.min(), xx.max())\n",
    "plt.ylim(yy.min(), yy.max())\n",
    "plt.title(accuracy_score(clf.predict(X[:,:2]), y))\n",
    "plt.show()"
   ]
  },
  {
   "cell_type": "markdown",
   "metadata": {
    "deletable": true,
    "editable": true
   },
   "source": [
    "Bagging"
   ]
  },
  {
   "cell_type": "code",
   "execution_count": 8,
   "metadata": {
    "collapsed": true,
    "deletable": true,
    "editable": true
   },
   "outputs": [],
   "source": [
    "data = pd.read_csv('wine_original.csv')\n",
    "labels = data['class']\n",
    "del data['class']\n",
    "X = data\n",
    "y = labels\n",
    "\n",
    "# Split into testing and training data\n",
    "X_train, X_test, y_train, y_test = train_test_split(X, y, test_size=0.2, random_state=5)"
   ]
  },
  {
   "cell_type": "code",
   "execution_count": 9,
   "metadata": {
    "collapsed": true,
    "deletable": true,
    "editable": true
   },
   "outputs": [],
   "source": [
    "from sklearn.ensemble import BaggingClassifier"
   ]
  },
  {
   "cell_type": "code",
   "execution_count": 10,
   "metadata": {
    "collapsed": false,
    "deletable": true,
    "editable": true
   },
   "outputs": [
    {
     "name": "stdout",
     "output_type": "stream",
     "text": [
      "Test accuracy = 0.888888888889\n",
      "Train accuracy = 0.992957746479\n"
     ]
    }
   ],
   "source": [
    "clf = BaggingClassifier(n_estimators=10)\n",
    "clf.fit(X_train, y_train)\n",
    "preds = clf.predict(X_test)\n",
    "y_true_preds = clf.predict(X_train)\n",
    "\n",
    "print ('Test accuracy = ' + str(accuracy_score(preds, y_test)))\n",
    "print ('Train accuracy = ' + str(accuracy_score(y_true_preds, y_train)))"
   ]
  },
  {
   "cell_type": "code",
   "execution_count": null,
   "metadata": {
    "collapsed": true,
    "deletable": true,
    "editable": true
   },
   "outputs": [],
   "source": [
    "# Random in nature -> Different result each time possible"
   ]
  },
  {
   "cell_type": "markdown",
   "metadata": {
    "deletable": true,
    "editable": true
   },
   "source": [
    "Random Forests"
   ]
  },
  {
   "cell_type": "code",
   "execution_count": 11,
   "metadata": {
    "collapsed": true,
    "deletable": true,
    "editable": true
   },
   "outputs": [],
   "source": [
    "from sklearn.ensemble import RandomForestClassifier"
   ]
  },
  {
   "cell_type": "code",
   "execution_count": 12,
   "metadata": {
    "collapsed": false,
    "deletable": true,
    "editable": true
   },
   "outputs": [
    {
     "name": "stdout",
     "output_type": "stream",
     "text": [
      "Test accuracy = 0.972222222222\n",
      "Train accuracy = 1.0\n"
     ]
    }
   ],
   "source": [
    "clf = RandomForestClassifier(n_estimators=10)\n",
    "clf.fit(X_train, y_train)\n",
    "preds = clf.predict(X_test)\n",
    "y_true_preds = clf.predict(X_train)\n",
    "\n",
    "print ('Test accuracy = ' + str(accuracy_score(preds, y_test)))\n",
    "print ('Train accuracy = ' + str(accuracy_score(y_true_preds, y_train)))"
   ]
  },
  {
   "cell_type": "code",
   "execution_count": 14,
   "metadata": {
    "collapsed": false,
    "deletable": true,
    "editable": true
   },
   "outputs": [
    {
     "data": {
      "text/plain": [
       "<matplotlib.figure.Figure at 0x1cbb4725cf8>"
      ]
     },
     "metadata": {},
     "output_type": "display_data"
    },
    {
     "data": {
      "image/png": "[encoded data removed]",
      "text/plain": [
       "<matplotlib.figure.Figure at 0x1cbb427f940>"
      ]
     },
     "metadata": {},
     "output_type": "display_data"
    }
   ],
   "source": [
    "from matplotlib.colors import ListedColormap\n",
    "\n",
    "h = .02  # step size in the mesh\n",
    "# Create color maps\n",
    "cmap_light = ListedColormap(['#FFAAAA', '#AAFFAA', '#AAAAFF'])\n",
    "cmap_bold = ListedColormap(['#FF0000', '#00FF00', '#0000FF'])\n",
    "\n",
    "X = np.concatenate((X_train, X_test))\n",
    "y = np.concatenate((y_train, y_test))\n",
    "\n",
    "# Plot the decision boundary. For that, we will assign a color to each\n",
    "    # point in the mesh [x_min, x_max]x[y_min, y_max].\n",
    "x_min, x_max = X[:, 0].min() - 1, X[:, 0].max() + 1\n",
    "y_min, y_max = X[:, 1].min() - 1, X[:, 1].max() + 1\n",
    "\n",
    "plt.clf()\n",
    "clf = RandomForestClassifier(n_estimators=10)\n",
    "clf.fit(X[:,:2], y)\n",
    "xx, yy = np.meshgrid(np.arange(x_min, x_max, h),\n",
    "                    np.arange(y_min, y_max, h))\n",
    "Z = clf.predict(np.c_[xx.ravel(), yy.ravel()])\n",
    "\n",
    "# Put the result into a color plot\n",
    "Z = Z.reshape(xx.shape)\n",
    "plt.figure()\n",
    "plt.pcolormesh(xx, yy, Z, cmap=cmap_light)\n",
    "\n",
    "# Plot also the training points\n",
    "plt.scatter(X[:, 0], X[:, 1], c=y, cmap=cmap_bold)\n",
    "plt.xlim(xx.min(), xx.max())\n",
    "plt.ylim(yy.min(), yy.max())\n",
    "plt.title(accuracy_score(clf.predict(X[:,:2]), y))\n",
    "plt.show()"
   ]
  },
  {
   "cell_type": "code",
   "execution_count": null,
   "metadata": {
    "collapsed": true,
    "deletable": true,
    "editable": true
   },
   "outputs": [],
   "source": []
  }
 ],
 "metadata": {
  "anaconda-cloud": {},
  "kernelspec": {
   "display_name": "Python [default]",
   "language": "python",
   "name": "python3"
  },
  "language_info": {
   "codemirror_mode": {
    "name": "ipython",
    "version": 3
   },
   "file_extension": ".py",
   "mimetype": "text/x-python",
   "name": "python",
   "nbconvert_exporter": "python",
   "pygments_lexer": "ipython3",
   "version": "3.5.3"
  }
 },
 "nbformat": 4,
 "nbformat_minor": 2
}
