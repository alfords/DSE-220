{
 "cells": [
  {
   "cell_type": "markdown",
   "metadata": {},
   "source": [
    "# Classification with Generative Models"
   ]
  },
  {
   "cell_type": "markdown",
   "metadata": {},
   "source": [
    "This notebook covers the following topics:\n",
    "-> Gaussion Naive Bayes\n",
    "-> Multinomial NB\n",
    "-> Multi-class Discriminant Analysis using Linear/Quadratic Analysis"
   ]
  },
  {
   "cell_type": "markdown",
   "metadata": {},
   "source": [
    "Again, we will be using the Iris dataset"
   ]
  },
  {
   "cell_type": "code",
   "execution_count": null,
   "metadata": {
    "collapsed": false
   },
   "outputs": [],
   "source": [
    "from sklearn import datasets\n",
    "from sklearn.naive_bayes import GaussianNB\n",
    "from sklearn.model_selection import train_test_split\n",
    "import numpy as np\n",
    "\n",
    "# Load the iris dataset\n",
    "iris = datasets.load_iris()\n",
    "X = iris.data\n",
    "y = iris.target\n",
    "\n",
    "# Create training and test sets\n",
    "X_train, X_test, y_train, y_test = train_test_split(X, y, test_size=0.2, random_state=5)"
   ]
  },
  {
   "cell_type": "code",
   "execution_count": null,
   "metadata": {
    "collapsed": false
   },
   "outputs": [],
   "source": [
    "# Initialize Gaussian Naive Bayes\n",
    "gnb = GaussianNB()\n",
    "# Train the classifier\n",
    "gnb.fit(X_train, y_train)\n",
    "# Make predictions on test data\n",
    "y_pred = gnb.predict(X_test)\n",
    "y_train_pred = gnb.predict(X_train)\n",
    "\n",
    "# print the accuracy\n",
    "print ('Training accuracy = ' + str(np.sum(y_train_pred == y_train)/len(y_train)))\n",
    "print ('Test accuracy = ' + str(np.sum(y_pred == y_test)/len(y_test)))"
   ]
  },
  {
   "cell_type": "markdown",
   "metadata": {},
   "source": [
    "Now let's repeat this with Multinomial Naive Bayes"
   ]
  },
  {
   "cell_type": "code",
   "execution_count": null,
   "metadata": {
    "collapsed": false
   },
   "outputs": [],
   "source": [
    "from sklearn.naive_bayes import MultinomialNB\n",
    "\n",
    "# Create validation set from training set\n",
    "X_train, X_valid, y_train, y_valid = train_test_split(X_train, y_train, test_size=0.2)\n",
    "\n",
    "alphas = [0.1, 0.5, 1, 2, 3, 4, 5, 10, 100]\n",
    "best_alpha = 0.1\n",
    "best_acc = 0.0\n",
    "\n",
    "for alpha in alphas:\n",
    "    # Initialize\n",
    "    clf = MultinomialNB(alpha=alpha)\n",
    "    # Train\n",
    "    clf.fit(X_train, y_train)\n",
    "    # Make predictions on validation data\n",
    "    y_pred = clf.predict(X_valid)\n",
    "    accuracy = np.sum(y_pred == y_valid)/len(y_valid)\n",
    "    print ('Validation accuracy = ' + str(accuracy) + ' at alpha = ' + str(alpha))\n",
    "    if accuracy > best_acc:\n",
    "        best_acc = accuracy\n",
    "        best_alpha = alpha\n",
    "\n",
    "print ('Best alpha = ' + str(best_alpha))        \n",
    "        \n",
    "X_train = np.concatenate((X_train, X_valid))\n",
    "y_train = np.concatenate((y_train, y_valid))\n",
    "\n",
    "clf = MultinomialNB(alpha=best_alpha)\n",
    "clf.fit(X_train, y_train)\n",
    "y_pred = clf.predict(X_test)\n",
    "y_train_pred = clf.predict(X_train)\n",
    "\n",
    "# print the accuracy\n",
    "print ('Training accuracy = ' + str(np.sum(y_train_pred == y_train)/len(y_train)))\n",
    "print ('Test accuracy = ' + str(np.sum(y_pred == y_test)/len(y_test)))"
   ]
  },
  {
   "cell_type": "markdown",
   "metadata": {},
   "source": [
    "Multi-class Discriminant Analysis using LinearDiscriminantAnalysis"
   ]
  },
  {
   "cell_type": "code",
   "execution_count": null,
   "metadata": {
    "collapsed": false
   },
   "outputs": [],
   "source": [
    "from sklearn.discriminant_analysis import LinearDiscriminantAnalysis\n",
    "\n",
    "# Intialize\n",
    "clf = LinearDiscriminantAnalysis()\n",
    "# Train\n",
    "clf.fit(X_train, y_train)\n",
    "# Test\n",
    "y_pred = clf.predict(X_test)\n",
    "y_train_pred = clf.predict(X_train)\n",
    "\n",
    "# print the accuracy\n",
    "print ('Training accuracy = ' + str(np.sum(y_train_pred == y_train)/len(y_train)))\n",
    "print ('Test accuracy = ' + str(np.sum(y_pred == y_test)/len(y_test)))"
   ]
  },
  {
   "cell_type": "markdown",
   "metadata": {},
   "source": [
    "Multi-class Discriminant Analysis using QuadraticDiscriminantAnalysis"
   ]
  },
  {
   "cell_type": "code",
   "execution_count": null,
   "metadata": {
    "collapsed": false
   },
   "outputs": [],
   "source": [
    "from sklearn.discriminant_analysis import QuadraticDiscriminantAnalysis\n",
    "\n",
    "# Intialize\n",
    "clf = QuadraticDiscriminantAnalysis()\n",
    "# Train\n",
    "clf.fit(X_train, y_train)\n",
    "# Test\n",
    "y_pred = clf.predict(X_test)\n",
    "y_train_pred = clf.predict(X_train)\n",
    "\n",
    "# print the accuracy\n",
    "print ('Training accuracy = ' + str(np.sum(y_train_pred == y_train)/len(y_train)))\n",
    "print ('Test accuracy = ' + str(np.sum(y_pred == y_test)/len(y_test)))"
   ]
  },
  {
   "cell_type": "raw",
   "metadata": {},
   "source": [
    "Note that we tuned no parameters for the discrimant analysis we did (both Linear and Quadratic), and yet ended up with an accuracy better than Naive Bayes. \n",
    "Exercise for the reader: \n",
    "    optimize 'solver' for Linear discriminant analysis\n",
    "    optimize 'reg_param' for Quadratic discriminant analysis\n",
    "Refer:\n",
    "    http://scikit-learn.org/stable/modules/generated/sklearn.discriminant_analysis.LinearDiscriminantAnalysis.html\n",
    "    http://scikit-learn.org/stable/modules/generated/sklearn.discriminant_analysis.QuadraticDiscriminantAnalysis.html"
   ]
  }
 ],
 "metadata": {
  "anaconda-cloud": {},
  "kernelspec": {
   "display_name": "Python [Root]",
   "language": "python",
   "name": "Python [Root]"
  },
  "language_info": {
   "codemirror_mode": {
    "name": "ipython",
    "version": 3
   },
   "file_extension": ".py",
   "mimetype": "text/x-python",
   "name": "python",
   "nbconvert_exporter": "python",
   "pygments_lexer": "ipython3",
   "version": "3.5.2"
  }
 },
 "nbformat": 4,
 "nbformat_minor": 0
}
